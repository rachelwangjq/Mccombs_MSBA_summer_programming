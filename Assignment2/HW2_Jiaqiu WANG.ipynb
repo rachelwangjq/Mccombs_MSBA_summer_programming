{
 "cells": [
  {
   "cell_type": "markdown",
   "metadata": {},
   "source": [
    "Before start, we import pandas and read in the data file."
   ]
  },
  {
   "cell_type": "code",
   "execution_count": 1,
   "metadata": {
    "collapsed": false,
    "scrolled": true
   },
   "outputs": [
    {
     "name": "stdout",
     "output_type": "stream",
     "text": [
      "Populating the interactive namespace from numpy and matplotlib\n"
     ]
    }
   ],
   "source": [
    "from pandas import Series, DataFrame\n",
    "import pandas as pd\n",
    "%pylab inline\n",
    "df = pd.read_csv('NYC_Restaurants.csv', dtype=unicode)"
   ]
  },
  {
   "cell_type": "markdown",
   "metadata": {},
   "source": [
    "## Q1"
   ]
  },
  {
   "cell_type": "markdown",
   "metadata": {},
   "source": [
    "For this question, I get the new \"RESTARUANT\" column by combining the content of three existing columns and adding space between each two of them."
   ]
  },
  {
   "cell_type": "code",
   "execution_count": 2,
   "metadata": {
    "collapsed": false,
    "scrolled": true
   },
   "outputs": [
    {
     "data": {
      "text/html": [
       "<div>\n",
       "<table border=\"1\" class=\"dataframe\">\n",
       "  <thead>\n",
       "    <tr style=\"text-align: right;\">\n",
       "      <th></th>\n",
       "      <th>Unnamed: 0</th>\n",
       "      <th>CAMIS</th>\n",
       "      <th>DBA</th>\n",
       "      <th>BORO</th>\n",
       "      <th>BUILDING</th>\n",
       "      <th>STREET</th>\n",
       "      <th>ZIPCODE</th>\n",
       "      <th>PHONE</th>\n",
       "      <th>CUISINE DESCRIPTION</th>\n",
       "      <th>INSPECTION DATE</th>\n",
       "      <th>ACTION</th>\n",
       "      <th>VIOLATION CODE</th>\n",
       "      <th>VIOLATION DESCRIPTION</th>\n",
       "      <th>CRITICAL FLAG</th>\n",
       "      <th>SCORE</th>\n",
       "      <th>GRADE</th>\n",
       "      <th>GRADE DATE</th>\n",
       "      <th>RECORD DATE</th>\n",
       "      <th>INSPECTION TYPE</th>\n",
       "      <th>RESTAURANT</th>\n",
       "    </tr>\n",
       "  </thead>\n",
       "  <tbody>\n",
       "    <tr>\n",
       "      <th>0</th>\n",
       "      <td>0</td>\n",
       "      <td>30112340</td>\n",
       "      <td>WENDY'S</td>\n",
       "      <td>BROOKLYN</td>\n",
       "      <td>469</td>\n",
       "      <td>FLATBUSH AVENUE</td>\n",
       "      <td>11225</td>\n",
       "      <td>7182875005</td>\n",
       "      <td>Hamburgers</td>\n",
       "      <td>12/30/2014</td>\n",
       "      <td>Violations were cited in the following area(s).</td>\n",
       "      <td>06C</td>\n",
       "      <td>Food not protected from potential source of co...</td>\n",
       "      <td>Critical</td>\n",
       "      <td>8</td>\n",
       "      <td>A</td>\n",
       "      <td>12/30/2014</td>\n",
       "      <td>02/12/2015</td>\n",
       "      <td>Cycle Inspection / Re-inspection</td>\n",
       "      <td>WENDY'S 469 FLATBUSH AVENUE 11225</td>\n",
       "    </tr>\n",
       "    <tr>\n",
       "      <th>1</th>\n",
       "      <td>1</td>\n",
       "      <td>30112340</td>\n",
       "      <td>WENDY'S</td>\n",
       "      <td>BROOKLYN</td>\n",
       "      <td>469</td>\n",
       "      <td>FLATBUSH AVENUE</td>\n",
       "      <td>11225</td>\n",
       "      <td>7182875005</td>\n",
       "      <td>Hamburgers</td>\n",
       "      <td>12/30/2014</td>\n",
       "      <td>Violations were cited in the following area(s).</td>\n",
       "      <td>10F</td>\n",
       "      <td>Non-food contact surface improperly constructe...</td>\n",
       "      <td>Not Critical</td>\n",
       "      <td>8</td>\n",
       "      <td>A</td>\n",
       "      <td>12/30/2014</td>\n",
       "      <td>02/12/2015</td>\n",
       "      <td>Cycle Inspection / Re-inspection</td>\n",
       "      <td>WENDY'S 469 FLATBUSH AVENUE 11225</td>\n",
       "    </tr>\n",
       "    <tr>\n",
       "      <th>2</th>\n",
       "      <td>2</td>\n",
       "      <td>30112340</td>\n",
       "      <td>WENDY'S</td>\n",
       "      <td>BROOKLYN</td>\n",
       "      <td>469</td>\n",
       "      <td>FLATBUSH AVENUE</td>\n",
       "      <td>11225</td>\n",
       "      <td>7182875005</td>\n",
       "      <td>Hamburgers</td>\n",
       "      <td>11/13/2014</td>\n",
       "      <td>Violations were cited in the following area(s).</td>\n",
       "      <td>04H</td>\n",
       "      <td>Raw, cooked or prepared food is adulterated, c...</td>\n",
       "      <td>Critical</td>\n",
       "      <td>16</td>\n",
       "      <td>NaN</td>\n",
       "      <td>NaN</td>\n",
       "      <td>02/12/2015</td>\n",
       "      <td>Cycle Inspection / Initial Inspection</td>\n",
       "      <td>WENDY'S 469 FLATBUSH AVENUE 11225</td>\n",
       "    </tr>\n",
       "    <tr>\n",
       "      <th>3</th>\n",
       "      <td>3</td>\n",
       "      <td>30112340</td>\n",
       "      <td>WENDY'S</td>\n",
       "      <td>BROOKLYN</td>\n",
       "      <td>469</td>\n",
       "      <td>FLATBUSH AVENUE</td>\n",
       "      <td>11225</td>\n",
       "      <td>7182875005</td>\n",
       "      <td>Hamburgers</td>\n",
       "      <td>11/13/2014</td>\n",
       "      <td>Violations were cited in the following area(s).</td>\n",
       "      <td>06A</td>\n",
       "      <td>Personal cleanliness inadequate. Outer garment...</td>\n",
       "      <td>Critical</td>\n",
       "      <td>16</td>\n",
       "      <td>NaN</td>\n",
       "      <td>NaN</td>\n",
       "      <td>02/12/2015</td>\n",
       "      <td>Cycle Inspection / Initial Inspection</td>\n",
       "      <td>WENDY'S 469 FLATBUSH AVENUE 11225</td>\n",
       "    </tr>\n",
       "    <tr>\n",
       "      <th>4</th>\n",
       "      <td>4</td>\n",
       "      <td>30112340</td>\n",
       "      <td>WENDY'S</td>\n",
       "      <td>BROOKLYN</td>\n",
       "      <td>469</td>\n",
       "      <td>FLATBUSH AVENUE</td>\n",
       "      <td>11225</td>\n",
       "      <td>7182875005</td>\n",
       "      <td>Hamburgers</td>\n",
       "      <td>11/13/2014</td>\n",
       "      <td>Violations were cited in the following area(s).</td>\n",
       "      <td>10F</td>\n",
       "      <td>Non-food contact surface improperly constructe...</td>\n",
       "      <td>Not Critical</td>\n",
       "      <td>16</td>\n",
       "      <td>NaN</td>\n",
       "      <td>NaN</td>\n",
       "      <td>02/12/2015</td>\n",
       "      <td>Cycle Inspection / Initial Inspection</td>\n",
       "      <td>WENDY'S 469 FLATBUSH AVENUE 11225</td>\n",
       "    </tr>\n",
       "    <tr>\n",
       "      <th>5</th>\n",
       "      <td>5</td>\n",
       "      <td>40356068</td>\n",
       "      <td>TOV KOSHER KITCHEN</td>\n",
       "      <td>QUEENS</td>\n",
       "      <td>97-22</td>\n",
       "      <td>63 ROAD</td>\n",
       "      <td>11374</td>\n",
       "      <td>7188967788</td>\n",
       "      <td>Jewish/Kosher</td>\n",
       "      <td>11/24/2014</td>\n",
       "      <td>Violations were cited in the following area(s).</td>\n",
       "      <td>02B</td>\n",
       "      <td>Hot food item not held at or above 140º F.</td>\n",
       "      <td>Critical</td>\n",
       "      <td>20</td>\n",
       "      <td>Z</td>\n",
       "      <td>11/24/2014</td>\n",
       "      <td>02/12/2015</td>\n",
       "      <td>Cycle Inspection / Re-inspection</td>\n",
       "      <td>TOV KOSHER KITCHEN 97-22 63 ROAD 11374</td>\n",
       "    </tr>\n",
       "    <tr>\n",
       "      <th>6</th>\n",
       "      <td>6</td>\n",
       "      <td>40356068</td>\n",
       "      <td>TOV KOSHER KITCHEN</td>\n",
       "      <td>QUEENS</td>\n",
       "      <td>97-22</td>\n",
       "      <td>63 ROAD</td>\n",
       "      <td>11374</td>\n",
       "      <td>7188967788</td>\n",
       "      <td>Jewish/Kosher</td>\n",
       "      <td>11/24/2014</td>\n",
       "      <td>Violations were cited in the following area(s).</td>\n",
       "      <td>06A</td>\n",
       "      <td>Personal cleanliness inadequate. Outer garment...</td>\n",
       "      <td>Critical</td>\n",
       "      <td>20</td>\n",
       "      <td>Z</td>\n",
       "      <td>11/24/2014</td>\n",
       "      <td>02/12/2015</td>\n",
       "      <td>Cycle Inspection / Re-inspection</td>\n",
       "      <td>TOV KOSHER KITCHEN 97-22 63 ROAD 11374</td>\n",
       "    </tr>\n",
       "    <tr>\n",
       "      <th>7</th>\n",
       "      <td>7</td>\n",
       "      <td>40356068</td>\n",
       "      <td>TOV KOSHER KITCHEN</td>\n",
       "      <td>QUEENS</td>\n",
       "      <td>97-22</td>\n",
       "      <td>63 ROAD</td>\n",
       "      <td>11374</td>\n",
       "      <td>7188967788</td>\n",
       "      <td>Jewish/Kosher</td>\n",
       "      <td>11/24/2014</td>\n",
       "      <td>Violations were cited in the following area(s).</td>\n",
       "      <td>06C</td>\n",
       "      <td>Food not protected from potential source of co...</td>\n",
       "      <td>Critical</td>\n",
       "      <td>20</td>\n",
       "      <td>Z</td>\n",
       "      <td>11/24/2014</td>\n",
       "      <td>02/12/2015</td>\n",
       "      <td>Cycle Inspection / Re-inspection</td>\n",
       "      <td>TOV KOSHER KITCHEN 97-22 63 ROAD 11374</td>\n",
       "    </tr>\n",
       "    <tr>\n",
       "      <th>8</th>\n",
       "      <td>8</td>\n",
       "      <td>40356068</td>\n",
       "      <td>TOV KOSHER KITCHEN</td>\n",
       "      <td>QUEENS</td>\n",
       "      <td>97-22</td>\n",
       "      <td>63 ROAD</td>\n",
       "      <td>11374</td>\n",
       "      <td>7188967788</td>\n",
       "      <td>Jewish/Kosher</td>\n",
       "      <td>11/24/2014</td>\n",
       "      <td>Violations were cited in the following area(s).</td>\n",
       "      <td>10F</td>\n",
       "      <td>Non-food contact surface improperly constructe...</td>\n",
       "      <td>Not Critical</td>\n",
       "      <td>20</td>\n",
       "      <td>Z</td>\n",
       "      <td>11/24/2014</td>\n",
       "      <td>02/12/2015</td>\n",
       "      <td>Cycle Inspection / Re-inspection</td>\n",
       "      <td>TOV KOSHER KITCHEN 97-22 63 ROAD 11374</td>\n",
       "    </tr>\n",
       "    <tr>\n",
       "      <th>9</th>\n",
       "      <td>9</td>\n",
       "      <td>40356151</td>\n",
       "      <td>BRUNOS ON THE BOULEVARD</td>\n",
       "      <td>QUEENS</td>\n",
       "      <td>8825</td>\n",
       "      <td>ASTORIA BOULEVARD</td>\n",
       "      <td>11369</td>\n",
       "      <td>7183350505</td>\n",
       "      <td>American</td>\n",
       "      <td>11/15/2014</td>\n",
       "      <td>Violations were cited in the following area(s).</td>\n",
       "      <td>04L</td>\n",
       "      <td>Evidence of mice or live mice present in facil...</td>\n",
       "      <td>Critical</td>\n",
       "      <td>38</td>\n",
       "      <td>Z</td>\n",
       "      <td>11/15/2014</td>\n",
       "      <td>02/12/2015</td>\n",
       "      <td>Cycle Inspection / Re-inspection</td>\n",
       "      <td>BRUNOS ON THE BOULEVARD 8825 ASTORIA BOULEVARD...</td>\n",
       "    </tr>\n",
       "  </tbody>\n",
       "</table>\n",
       "</div>"
      ],
      "text/plain": [
       "  Unnamed: 0     CAMIS                      DBA      BORO BUILDING  \\\n",
       "0          0  30112340                  WENDY'S  BROOKLYN      469   \n",
       "1          1  30112340                  WENDY'S  BROOKLYN      469   \n",
       "2          2  30112340                  WENDY'S  BROOKLYN      469   \n",
       "3          3  30112340                  WENDY'S  BROOKLYN      469   \n",
       "4          4  30112340                  WENDY'S  BROOKLYN      469   \n",
       "5          5  40356068       TOV KOSHER KITCHEN    QUEENS    97-22   \n",
       "6          6  40356068       TOV KOSHER KITCHEN    QUEENS    97-22   \n",
       "7          7  40356068       TOV KOSHER KITCHEN    QUEENS    97-22   \n",
       "8          8  40356068       TOV KOSHER KITCHEN    QUEENS    97-22   \n",
       "9          9  40356151  BRUNOS ON THE BOULEVARD    QUEENS     8825   \n",
       "\n",
       "              STREET ZIPCODE       PHONE CUISINE DESCRIPTION INSPECTION DATE  \\\n",
       "0    FLATBUSH AVENUE   11225  7182875005          Hamburgers      12/30/2014   \n",
       "1    FLATBUSH AVENUE   11225  7182875005          Hamburgers      12/30/2014   \n",
       "2    FLATBUSH AVENUE   11225  7182875005          Hamburgers      11/13/2014   \n",
       "3    FLATBUSH AVENUE   11225  7182875005          Hamburgers      11/13/2014   \n",
       "4    FLATBUSH AVENUE   11225  7182875005          Hamburgers      11/13/2014   \n",
       "5            63 ROAD   11374  7188967788       Jewish/Kosher      11/24/2014   \n",
       "6            63 ROAD   11374  7188967788       Jewish/Kosher      11/24/2014   \n",
       "7            63 ROAD   11374  7188967788       Jewish/Kosher      11/24/2014   \n",
       "8            63 ROAD   11374  7188967788       Jewish/Kosher      11/24/2014   \n",
       "9  ASTORIA BOULEVARD   11369  7183350505           American       11/15/2014   \n",
       "\n",
       "                                            ACTION VIOLATION CODE  \\\n",
       "0  Violations were cited in the following area(s).            06C   \n",
       "1  Violations were cited in the following area(s).            10F   \n",
       "2  Violations were cited in the following area(s).            04H   \n",
       "3  Violations were cited in the following area(s).            06A   \n",
       "4  Violations were cited in the following area(s).            10F   \n",
       "5  Violations were cited in the following area(s).            02B   \n",
       "6  Violations were cited in the following area(s).            06A   \n",
       "7  Violations were cited in the following area(s).            06C   \n",
       "8  Violations were cited in the following area(s).            10F   \n",
       "9  Violations were cited in the following area(s).            04L   \n",
       "\n",
       "                               VIOLATION DESCRIPTION CRITICAL FLAG SCORE  \\\n",
       "0  Food not protected from potential source of co...      Critical     8   \n",
       "1  Non-food contact surface improperly constructe...  Not Critical     8   \n",
       "2  Raw, cooked or prepared food is adulterated, c...      Critical    16   \n",
       "3  Personal cleanliness inadequate. Outer garment...      Critical    16   \n",
       "4  Non-food contact surface improperly constructe...  Not Critical    16   \n",
       "5         Hot food item not held at or above 140º F.      Critical    20   \n",
       "6  Personal cleanliness inadequate. Outer garment...      Critical    20   \n",
       "7  Food not protected from potential source of co...      Critical    20   \n",
       "8  Non-food contact surface improperly constructe...  Not Critical    20   \n",
       "9  Evidence of mice or live mice present in facil...      Critical    38   \n",
       "\n",
       "  GRADE  GRADE DATE RECORD DATE                        INSPECTION TYPE  \\\n",
       "0     A  12/30/2014  02/12/2015       Cycle Inspection / Re-inspection   \n",
       "1     A  12/30/2014  02/12/2015       Cycle Inspection / Re-inspection   \n",
       "2   NaN         NaN  02/12/2015  Cycle Inspection / Initial Inspection   \n",
       "3   NaN         NaN  02/12/2015  Cycle Inspection / Initial Inspection   \n",
       "4   NaN         NaN  02/12/2015  Cycle Inspection / Initial Inspection   \n",
       "5     Z  11/24/2014  02/12/2015       Cycle Inspection / Re-inspection   \n",
       "6     Z  11/24/2014  02/12/2015       Cycle Inspection / Re-inspection   \n",
       "7     Z  11/24/2014  02/12/2015       Cycle Inspection / Re-inspection   \n",
       "8     Z  11/24/2014  02/12/2015       Cycle Inspection / Re-inspection   \n",
       "9     Z  11/15/2014  02/12/2015       Cycle Inspection / Re-inspection   \n",
       "\n",
       "                                          RESTAURANT  \n",
       "0                  WENDY'S 469 FLATBUSH AVENUE 11225  \n",
       "1                  WENDY'S 469 FLATBUSH AVENUE 11225  \n",
       "2                  WENDY'S 469 FLATBUSH AVENUE 11225  \n",
       "3                  WENDY'S 469 FLATBUSH AVENUE 11225  \n",
       "4                  WENDY'S 469 FLATBUSH AVENUE 11225  \n",
       "5             TOV KOSHER KITCHEN 97-22 63 ROAD 11374  \n",
       "6             TOV KOSHER KITCHEN 97-22 63 ROAD 11374  \n",
       "7             TOV KOSHER KITCHEN 97-22 63 ROAD 11374  \n",
       "8             TOV KOSHER KITCHEN 97-22 63 ROAD 11374  \n",
       "9  BRUNOS ON THE BOULEVARD 8825 ASTORIA BOULEVARD...  "
      ]
     },
     "execution_count": 2,
     "metadata": {},
     "output_type": "execute_result"
    }
   ],
   "source": [
    "df['RESTAURANT'] = df['DBA'] +\" \"+df['BUILDING']+\" \"+df['STREET']+\\\n",
    "\" \"+df['ZIPCODE']\n",
    "df.ix[:9]"
   ]
  },
  {
   "cell_type": "markdown",
   "metadata": {
    "collapsed": true
   },
   "source": [
    "## Q2"
   ]
  },
  {
   "cell_type": "markdown",
   "metadata": {},
   "source": [
    "Here as a unique restaruant is defined by its unique restaurant address, I decide to add a new column called \"restaurant address\" to show this information. Then I use set() function to get the unique value of this column and use len() to calculate the number of unique restaurant. "
   ]
  },
  {
   "cell_type": "code",
   "execution_count": 3,
   "metadata": {
    "collapsed": false
   },
   "outputs": [
    {
     "data": {
      "text/plain": [
       "10114"
      ]
     },
     "execution_count": 3,
     "metadata": {},
     "output_type": "execute_result"
    }
   ],
   "source": [
    "df['RESTAURANT_ADDRESS'] = df['DBA'] +\" \"+df['BUILDING']+\" \"+df['STREET']+\\\n",
    "\" \"+df['ZIPCODE']+\" \"+df['BORO']\n",
    "df.ix[:9]\n",
    "\n",
    "len(set(df['RESTAURANT_ADDRESS']))"
   ]
  },
  {
   "cell_type": "markdown",
   "metadata": {},
   "source": [
    "## Q3"
   ]
  },
  {
   "cell_type": "markdown",
   "metadata": {},
   "source": [
    "Here as we need to find the same restaurant name occurring in at least two different addresses, I first dropped duplicate with \"RESTAURANT\" as a subset in the original dataframe, to get a new dataframe with only unique restaurant. Then as every restaurant in the new dataframe has a unique address, if two or more than two of them are under the same DBA, then this DBA should represent a chain. I used this statement as a mask to select the chain and print out the length of all the chain restaurant."
   ]
  },
  {
   "cell_type": "code",
   "execution_count": 4,
   "metadata": {
    "collapsed": false
   },
   "outputs": [
    {
     "name": "stdout",
     "output_type": "stream",
     "text": [
      "368\n"
     ]
    }
   ],
   "source": [
    "unique_restaurant_df = df.drop_duplicates(subset ='RESTAURANT')\n",
    "DBA_of_restaurant = unique_restaurant_df['DBA'].value_counts()\n",
    "\n",
    "chain = DBA_of_restaurant[DBA_of_restaurant >= 2]\n",
    "print len(chain)"
   ]
  },
  {
   "cell_type": "markdown",
   "metadata": {},
   "source": [
    "## Q4"
   ]
  },
  {
   "cell_type": "markdown",
   "metadata": {},
   "source": [
    "I just used the chain I got from Q3 to plot the graph."
   ]
  },
  {
   "cell_type": "code",
   "execution_count": 5,
   "metadata": {
    "collapsed": false
   },
   "outputs": [
    {
     "data": {
      "text/plain": [
       "<matplotlib.axes._subplots.AxesSubplot at 0xf165e48>"
      ]
     },
     "execution_count": 5,
     "metadata": {},
     "output_type": "execute_result"
    },
    {
     "data": {
      "image/png": "[encoded data removed]",
      "text/plain": [
       "<matplotlib.figure.Figure at 0xe6086a0>"
      ]
     },
     "metadata": {},
     "output_type": "display_data"
    }
   ],
   "source": [
    "chain[:20].plot(kind='bar')"
   ]
  },
  {
   "cell_type": "markdown",
   "metadata": {},
   "source": [
    "## Q5"
   ]
  },
  {
   "cell_type": "markdown",
   "metadata": {},
   "source": [
    "To calculate the fraction of chain restaurant, I calculated the total number of chain restaurant and the total number of all the restaurant in NYU by calling the sum function. To make sure the result can be showed correctly as a decimal number, I use float to convert one of the sum numbers (here I converted the total number of all restaurant in NYU)."
   ]
  },
  {
   "cell_type": "code",
   "execution_count": 6,
   "metadata": {
    "collapsed": false
   },
   "outputs": [
    {
     "data": {
      "text/plain": [
       "0.16472216729286138"
      ]
     },
     "execution_count": 6,
     "metadata": {},
     "output_type": "execute_result"
    }
   ],
   "source": [
    "chain_fraction = chain.sum()/float(DBA_of_restaurant.sum())\n",
    "chain_fraction"
   ]
  },
  {
   "cell_type": "markdown",
   "metadata": {},
   "source": [
    "## Q6"
   ]
  },
  {
   "cell_type": "markdown",
   "metadata": {},
   "source": [
    "For this question we need to plot the number of non-chain restaurants in each\n",
    "boro. I made a judgement call that based on the question description, here we should work on the dataframe that only contains unique restaurant.\n",
    "\n",
    "To solve the problem, first I need to create a mask to filter out all the non-chain restaurant. To achieve this goal I defined a function called \"check_non_chain\", which aftering being called on the unique_restaurant_df['DBA'] using \"map\", will conduct a list search among every single item on the 'DBA' series and return \"True\" or \"False\" based on whether the DBA is a chain or non-chain restaurant. \n",
    "\n",
    "Another thing I did before plotting the graph is to remove all the missing Boro value by changing \"missing\" to NaN. I achieved this by using another mask which can filter out the \"missing\" boro.\n",
    "\n",
    "The last step is just to plot the graph after using non-chain mask on the unique_restaurant_df and doing value_counts on the \"Boro\" column."
   ]
  },
  {
   "cell_type": "code",
   "execution_count": 22,
   "metadata": {
    "collapsed": false,
    "scrolled": true
   },
   "outputs": [
    {
     "data": {
      "text/plain": [
       "NIKKO HIBACHI STEAKHOUSE & LOUNGE         1\n",
       "CLUB LIT                                  1\n",
       "BELLE HARBOR YACHT CLUB                   1\n",
       "MIHOKO'S 21 GRAMS                         1\n",
       "DAMIAN COFFEE SHOP                        1\n",
       "RED ROOM                                  1\n",
       "CLUBS GYRO                                1\n",
       "HANG LUNG RESTAURANT                      1\n",
       "CASCADES CATERING HALL                    1\n",
       "CAFE BIBA                                 1\n",
       "DOUBLE DOWN SALOON                        1\n",
       "SVETSARAH                                 1\n",
       "SONNY'S ROTI SHOP                         1\n",
       "FLAMING SADDLES SALOON                    1\n",
       "BARRACA/MACONDO                           1\n",
       "TASTY DUMPLING                            1\n",
       "SPOLEM                                    1\n",
       "DAVEY'S ICE CREAM                         1\n",
       "AL DENTE PIZZERIA                         1\n",
       "PETEY'S BURGER                            1\n",
       "TEN DEGREES BISTRO                        1\n",
       "KING PIZZA                                1\n",
       "CHANCE                                    1\n",
       "ANGELA'S PIZZERIA                         1\n",
       "NEW HONG KONG HOUSE EXPRESS               1\n",
       "PECAS Y ALGO MAS                          1\n",
       "CANA RESTAURANT & CATERING                1\n",
       "SWEETWATER GRILL                          1\n",
       "ALFIE'S                                   1\n",
       "FOOD GALLERY 32                           1\n",
       "                                         ..\n",
       "BLUESTONE LANE COFFEE                     1\n",
       "CHECKER'S                                 1\n",
       "CONSOLATION RESIDENCE                     1\n",
       "VILLA MONTE PIZZERIA                      1\n",
       "ISLE OF SKYE                              1\n",
       "E SAVOY                                   1\n",
       "OGAWA CAFE                                1\n",
       "ROOMALI                                   1\n",
       "360 LOUNGE                                1\n",
       "EL NUEVO PORTAL RESTAURANT                1\n",
       "MAI THAI                                  1\n",
       "MONA'S BAKERY & CAFE                      1\n",
       "KIM PO CHINESE RESTAURANT                 1\n",
       "S.R. DELI GROCERY                         1\n",
       "HALE & HEARTY SOUP                        1\n",
       "BLARNEY CASTLE                            1\n",
       "SUN'S KITCHEN                             1\n",
       "ISLAND BLEND JUICE  BAR .                 1\n",
       "HANOVER GOURMET DELI                      1\n",
       "NORTHERN SUSHI                            1\n",
       "Konditori                                 1\n",
       "ARABICA HOOKAH LOUNGE & RESTAURANT INC    1\n",
       "UPSTATE                                   1\n",
       "SUSHI DOJO                                1\n",
       "JOHNS CAFE & RESTURANT                    1\n",
       "TERRACE COFFEE SHOP                       1\n",
       "ESMERALDA'S RESTAURANT                    1\n",
       "MAMMA'S FAMOUS PIZZA & BURGERS            1\n",
       "SUSHI YASUDA                              1\n",
       "DAD DELI & CAFE                           1\n",
       "Name: DBA, dtype: int64"
      ]
     },
     "execution_count": 22,
     "metadata": {},
     "output_type": "execute_result"
    }
   ],
   "source": [
    "non_chain = DBA_of_restaurant[DBA_of_restaurant == 1]\n",
    "\n",
    "def check_non_chain(n):\n",
    "    return n in non_chain  #doing a list search, return particular true or false\n",
    "mask_non_chain = unique_restaurant_df['DBA'].map(check_non_chain)\n",
    "\n",
    "mask_missing = (unique_restaurant_df['BORO'] == 'Missing')\n",
    "unique_restaurant_df.ix[mask_missing,'BORO'] = np.nan #set the value to NaN\n",
    "\n",
    "unique_restaurant_df[mask_non_chain]['BORO'].value_counts().plot(kind='bar')"
   ]
  },
  {
   "cell_type": "markdown",
   "metadata": {},
   "source": [
    "## Q7"
   ]
  },
  {
   "cell_type": "markdown",
   "metadata": {},
   "source": [
    "Q7 required us to plot the fraction of non-chain restaurants in each boro. So basically we just need to divide the number of non-chain restaurants (which we get in Q6) by the total number of restaurants in the boro (which uses the same approch as Q6 except that we don't need to apply the non-chain mask and don't need to worry about the boro missing value as they have already been dropped in unique_restaurant_df).\n",
    "\n",
    "We can actually find that the boro with the most independent restaurants(which is Manhattan) is not the one with the highest ratio of independent restaurants(which is Brooklyn)."
   ]
  },
  {
   "cell_type": "code",
   "execution_count": 8,
   "metadata": {
    "collapsed": false
   },
   "outputs": [
    {
     "data": {
      "text/plain": [
       "<matplotlib.axes._subplots.AxesSubplot at 0xbea8940>"
      ]
     },
     "execution_count": 8,
     "metadata": {},
     "output_type": "execute_result"
    },
    {
     "data": {
      "image/png": "[encoded data removed]",
      "text/plain": [
       "<matplotlib.figure.Figure at 0xeffe710>"
      ]
     },
     "metadata": {},
     "output_type": "display_data"
    }
   ],
   "source": [
    "non_chain_fraction = unique_restaurant_df[mask_non_chain]['BORO'].value_counts()/unique_restaurant_df['BORO'].value_counts()\n",
    "non_chain_fraction.plot(kind = 'bar')\n"
   ]
  },
  {
   "cell_type": "markdown",
   "metadata": {},
   "source": [
    "## Q8"
   ]
  },
  {
   "cell_type": "markdown",
   "metadata": {},
   "source": [
    "Here as the same restaurant can have multiple violations which can affect our final result if I just use the original df, I decided to work with the unique_restaurant_df in which all the duplicated restaurants have been removed. Then I selected the top 20 cuisines based on value count to plot the graph."
   ]
  },
  {
   "cell_type": "code",
   "execution_count": 9,
   "metadata": {
    "collapsed": false
   },
   "outputs": [
    {
     "data": {
      "text/plain": [
       "<matplotlib.axes._subplots.AxesSubplot at 0xe69e198>"
      ]
     },
     "execution_count": 9,
     "metadata": {},
     "output_type": "execute_result"
    },
    {
     "data": {
      "image/png": "[encoded data removed]",
      "text/plain": [
       "<matplotlib.figure.Figure at 0xe923358>"
      ]
     },
     "metadata": {},
     "output_type": "display_data"
    }
   ],
   "source": [
    "unique_restaurant_df['CUISINE DESCRIPTION'].value_counts()[:20].plot(kind = 'bar')"
   ]
  },
  {
   "cell_type": "markdown",
   "metadata": {},
   "source": [
    "## Q9"
   ]
  },
  {
   "cell_type": "markdown",
   "metadata": {},
   "source": [
    "At the beginning I plan to use the isnull() function on the unique restaurant dataframe directly to get the clean restaurant, then I realized if I do it this way, those restaurants that get both clean and violation record will just be treated as clean restaurant while they actually shouldn't be. Then I figured that I have to do it the opposite way--first find out all the restaurants that have a violation record, and the rest are clean restaurant. After getting the clean_restaurant_df, I also called the drop_duplicates function with subset equals to 'RESTAURANT' on the new df to get the unique restaurant list."
   ]
  },
  {
   "cell_type": "code",
   "execution_count": 11,
   "metadata": {
    "collapsed": false
   },
   "outputs": [
    {
     "data": {
      "text/plain": [
       "<matplotlib.axes._subplots.AxesSubplot at 0xd040240>"
      ]
     },
     "execution_count": 11,
     "metadata": {},
     "output_type": "execute_result"
    },
    {
     "data": {
      "image/png": "[encoded data removed]",
      "text/plain": [
       "<matplotlib.figure.Figure at 0xcc73b38>"
      ]
     },
     "metadata": {},
     "output_type": "display_data"
    }
   ],
   "source": [
    "violation_notnull = df[df['VIOLATION CODE'].notnull()]\n",
    "violation_restaurant = unique(violation_notnull['RESTAURANT'])\n",
    "\n",
    "def clean_restaurant(n):\n",
    "    if n in violation_restaurant:\n",
    "        return False\n",
    "    else:\n",
    "        return True\n",
    "\n",
    "mask_clean_restaurant = df['RESTAURANT'].map(clean_restaurant)\n",
    "clean_restaurant_df = df[mask_clean_restaurant].drop_duplicates(subset = 'RESTAURANT')\n",
    "clean_restaurant_df['CUISINE DESCRIPTION'].value_counts()[:20].plot(kind = 'bar')"
   ]
  },
  {
   "cell_type": "markdown",
   "metadata": {},
   "source": [
    "## Q10"
   ]
  },
  {
   "cell_type": "markdown",
   "metadata": {},
   "source": [
    "For Q10 we need to calculate the ratio of inspections where the violation code is missing (so the inspection passed) versus the total number of rows for that cuisine.\n",
    "\n",
    "First of all, I used a mask to filter out cuisines that were represented in at least 20 restaurants and get a list of representing_cuisine. Then I defined a function to look through every cuisine description in unique_restaurant_df to check whether they are representing cuisine or not. Then I applied the mask_representing_cuisine on both the numerator and denominator to calculate the ratio."
   ]
  },
  {
   "cell_type": "code",
   "execution_count": 12,
   "metadata": {
    "collapsed": false
   },
   "outputs": [
    {
     "name": "stderr",
     "output_type": "stream",
     "text": [
      "C:\\Users\\rache\\Anaconda2\\lib\\site-packages\\ipykernel\\__main__.py:8: UserWarning: Boolean Series key will be reindexed to match DataFrame index.\n"
     ]
    },
    {
     "data": {
      "text/plain": [
       "Soul Food                        0.090909\n",
       "Vietnamese/Cambodian/Malaysia    0.062500\n",
       "Other                            0.058252\n",
       "Soups & Sandwiches               0.047619\n",
       "Continental                      0.047619\n",
       "Barbecue                         0.047619\n",
       "Asian                            0.041096\n",
       "Chinese                          0.038251\n",
       "Greek                            0.036364\n",
       "Peruvian                         0.035714\n",
       "Name: CUISINE DESCRIPTION, dtype: float64"
      ]
     },
     "execution_count": 12,
     "metadata": {},
     "output_type": "execute_result"
    }
   ],
   "source": [
    "cuisine = unique_restaurant_df['CUISINE DESCRIPTION'].value_counts()\n",
    "representing_cuisine = cuisine[cuisine >= 20]\n",
    "\n",
    "def check_representing_cuisine(n):\n",
    "     return n in representing_cuisine  #doing a list search, return particular true or false\n",
    "\n",
    "mask_representing_cuisine = unique_restaurant_df['CUISINE DESCRIPTION'].map(check_representing_cuisine)\n",
    "ratio = clean_restaurant_df[mask_representing_cuisine]['CUISINE DESCRIPTION'].value_counts()/\\\n",
    "unique_restaurant_df[mask_representing_cuisine]['CUISINE DESCRIPTION'].value_counts()\n",
    "ratio.sort_values(ascending=False)[:10]"
   ]
  },
  {
   "cell_type": "markdown",
   "metadata": {},
   "source": [
    "## Q11"
   ]
  },
  {
   "cell_type": "markdown",
   "metadata": {},
   "source": [
    "Here I used crosstab function to create the table of the number of times each violation description was observed in each borough. Then I used idxmax() function to figure out the most common violation description for each borough."
   ]
  },
  {
   "cell_type": "code",
   "execution_count": 13,
   "metadata": {
    "collapsed": false
   },
   "outputs": [
    {
     "data": {
      "text/plain": [
       "BORO\n",
       "BRONX            Non-food contact surface improperly constructe...\n",
       "BROOKLYN         Non-food contact surface improperly constructe...\n",
       "MANHATTAN        Non-food contact surface improperly constructe...\n",
       "Missing          Non-food contact surface improperly constructe...\n",
       "QUEENS           Non-food contact surface improperly constructe...\n",
       "STATEN ISLAND    Non-food contact surface improperly constructe...\n",
       "dtype: object"
      ]
     },
     "execution_count": 13,
     "metadata": {},
     "output_type": "execute_result"
    }
   ],
   "source": [
    "violations_in_boro = pd.crosstab(df['VIOLATION DESCRIPTION'], df['BORO'])\n",
    "violations_in_boro.idxmax()"
   ]
  },
  {
   "cell_type": "markdown",
   "metadata": {},
   "source": [
    "## Q12"
   ]
  },
  {
   "cell_type": "markdown",
   "metadata": {},
   "source": [
    "Actually there is one parameter related to normalization inside the crosstab function. Here we set normalize = 'index', so that everything inside the crosstab will be normalized over each row."
   ]
  },
  {
   "cell_type": "code",
   "execution_count": 14,
   "metadata": {
    "collapsed": false
   },
   "outputs": [
    {
     "data": {
      "text/plain": [
       "BORO\n",
       "BRONX                                  Unprotected food re-served.\n",
       "BROOKLYN         Precooked potentially hazardous food from comm...\n",
       "MANHATTAN        Out-of package sale of tobacco products observed.\n",
       "Missing          ''''Wash hands\u001a sign not posted at hand wash f...\n",
       "QUEENS           Caloric content range (minimum to maximum) not...\n",
       "STATEN ISLAND    Eggs found dirty/cracked; liquid, frozen or po...\n",
       "dtype: object"
      ]
     },
     "execution_count": 14,
     "metadata": {},
     "output_type": "execute_result"
    }
   ],
   "source": [
    "normalized_violations_in_boro = pd.crosstab(df['VIOLATION DESCRIPTION'], df['BORO'], normalize ='index')\n",
    "normalized_violations_in_boro.idxmax()"
   ]
  },
  {
   "cell_type": "markdown",
   "metadata": {},
   "source": [
    "## Q13"
   ]
  },
  {
   "cell_type": "markdown",
   "metadata": {},
   "source": [
    "First we need to add a new 'AREA CODE' column to the original df. To get the area code we need to extract the first 3 characters of the phone number. I defined a get_area_code function and map it on the original dataframe to achieve this.\n",
    "\n",
    "After getting the area code, we get a new dataframe called groups_df with only area code and zipcode column for further analysis. To solve the unique match problem, I thought about groupby, and I try to group the data by area code and count for each area code how many different zipcodes are there. Then I used a mask to filter out those counts that equal to 1. But soon after I finish this, I realized that some of the counts are larger than 1 but the counts could actually come from the same zipcode. Therefore I went back to the groups_df and add a drop_duplicates function to slove this problem."
   ]
  },
  {
   "cell_type": "code",
   "execution_count": 20,
   "metadata": {
    "collapsed": false
   },
   "outputs": [
    {
     "data": {
      "text/plain": [
       "ZIPCODE  count    34\n",
       "dtype: int64"
      ]
     },
     "execution_count": 20,
     "metadata": {},
     "output_type": "execute_result"
    }
   ],
   "source": [
    "def get_area_code(s):\n",
    "    return s[:3]\n",
    "df['AREA CODE']=df['PHONE'].map(get_area_code)\n",
    "\n",
    "groups_df = df[['AREA CODE','ZIPCODE']].drop_duplicates()\n",
    "groups = groups_df.groupby('AREA CODE')[['ZIPCODE']].agg(['count'])\n",
    "\n",
    "groups_mask = (groups['ZIPCODE']['count'] == 1)\n",
    "groups[groups_mask].count()"
   ]
  },
  {
   "cell_type": "markdown",
   "metadata": {},
   "source": [
    "## Q14"
   ]
  },
  {
   "cell_type": "markdown",
   "metadata": {},
   "source": [
    "For Q14 we first need to add the required columns in the original dataframe. Here I used map function to finish this task quickly. After getting the column we comnined the three new columns into a new dataframe called street_names_df and remove the duplicate and where street base is empty. Then I merged the street_names_df with itself on the STREET BASE & ZIP column and used mask to filiter out the rows where the street types are different. Finally I used crosstab and the idxmax function to solve the problem."
   ]
  },
  {
   "cell_type": "code",
   "execution_count": 16,
   "metadata": {
    "collapsed": false
   },
   "outputs": [
    {
     "name": "stdout",
     "output_type": "stream",
     "text": [
      "AVE: AVENUE\n",
      "ST: STREET\n",
      "RD: ROAD\n",
      "PL: PLACE\n",
      "BOULEARD: BLVD\n",
      "BULEVARD: BLVD\n"
     ]
    }
   ],
   "source": [
    "def get_street_type(s):\n",
    "    return s.split()[-1]\n",
    "df['STREET TYPE']=df['STREET'].map(get_street_type)\n",
    "\n",
    "def get_street_base(s):\n",
    "    return s.rsplit(' ', 1)[0]\n",
    "df['STREET BASE']=df['STREET'].map(get_street_base)\n",
    "\n",
    "df['STREET BASE & ZIP'] = df['STREET BASE']+df['ZIPCODE']\n",
    "\n",
    "street_names_df = df[['STREET TYPE','STREET BASE','STREET BASE & ZIP']]\n",
    "street_names_df = street_names_df.dropna(subset=['STREET BASE']).drop_duplicates()\n",
    "\n",
    "merged = pd.merge(street_names_df,street_names_df,\n",
    "               on = 'STREET BASE & ZIP')\n",
    "\n",
    "mask_unique_street_type = (merged['STREET TYPE_x']!=merged['STREET TYPE_y'])\n",
    "merged[mask_unique_street_type]\n",
    "\n",
    "cross_tabulation = pd.crosstab(merged[mask_unique_street_type]['STREET TYPE_x'], merged[mask_unique_street_type]['STREET TYPE_y'])\n",
    "\n",
    "print \"AVE:\", cross_tabulation['AVE'].idxmax()\n",
    "print \"ST:\",cross_tabulation['ST'].idxmax()\n",
    "print \"RD:\",cross_tabulation['RD'].idxmax()\n",
    "print \"PL:\",cross_tabulation['PL'].idxmax()\n",
    "print \"BOULEARD:\",cross_tabulation['BOULEARD'].idxmax()\n",
    "print \"BULEVARD:\",cross_tabulation['BULEVARD'].idxmax()\n"
   ]
  }
 ],
 "metadata": {
  "anaconda-cloud": {},
  "kernelspec": {
   "display_name": "Python [conda root]",
   "language": "python",
   "name": "conda-root-py"
  },
  "language_info": {
   "codemirror_mode": {
    "name": "ipython",
    "version": 2
   },
   "file_extension": ".py",
   "mimetype": "text/x-python",
   "name": "python",
   "nbconvert_exporter": "python",
   "pygments_lexer": "ipython2",
   "version": "2.7.12"
  }
 },
 "nbformat": 4,
 "nbformat_minor": 0
}
